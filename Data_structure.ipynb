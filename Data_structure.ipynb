{
  "nbformat": 4,
  "nbformat_minor": 0,
  "metadata": {
    "colab": {
      "provenance": []
    },
    "kernelspec": {
      "name": "python3",
      "display_name": "Python 3"
    },
    "language_info": {
      "name": "python"
    }
  },
  "cells": [
    {
      "cell_type": "code",
      "execution_count": null,
      "metadata": {
        "id": "frpGNmXYQpab"
      },
      "outputs": [],
      "source": []
    },
    {
      "cell_type": "markdown",
      "source": [
        "**Question 1.** Duscuss string slicing and provide examples.\n",
        "**Answeer-** Python string supports slicing to create substring. Note that Python string is immutable, slicing creates a new substring from the source string and original string remains unchanged.\n",
        "The slice() method splits the array according to the provided range parameters.\n"
      ],
      "metadata": {
        "id": "1SFIVxX5Q22P"
      }
    },
    {
      "cell_type": "code",
      "source": [
        "x = \"Hello world\"\n",
        "print(x[0])\n",
        "print(x[0:3])\n",
        "print(x[-2])"
      ],
      "metadata": {
        "colab": {
          "base_uri": "https://localhost:8080/"
        },
        "id": "qst2Eu4oSVSn",
        "outputId": "dd4cf77d-2c31-4e01-ff9a-07b7dc9592fb"
      },
      "execution_count": 1,
      "outputs": [
        {
          "output_type": "stream",
          "name": "stdout",
          "text": [
            "H\n",
            "Hel\n",
            "l\n"
          ]
        }
      ]
    },
    {
      "cell_type": "markdown",
      "source": [
        "**Question 2.** Explain the key features of List in python.\n",
        "**Answer-** In the python list can store and orderd collection of items, or elements of varrying types. Lists are also a type of build in Data Structure in python(along with tupples, sets and dictionaries), which is a specified way of storing and formating data.\n",
        "In the list we modified in many types-\n",
        "1. Index method\n",
        "2. Count method\n",
        "3.Sort method\n",
        "4. Append method\n",
        "5.Remove method\n",
        ""
      ],
      "metadata": {
        "id": "GT5rsdmTTAzE"
      }
    },
    {
      "cell_type": "code",
      "source": [
        "# Index method\n",
        "list = [\"Pwskills\", \"Avaneesh\", 1, 2 , 3]\n",
        "print(list.index(3))"
      ],
      "metadata": {
        "colab": {
          "base_uri": "https://localhost:8080/"
        },
        "id": "ntIMeY5kVnE0",
        "outputId": "a3ddb1a3-b5f0-49e8-8b2b-60bd310ae55b"
      },
      "execution_count": 6,
      "outputs": [
        {
          "output_type": "stream",
          "name": "stdout",
          "text": [
            "4\n"
          ]
        }
      ]
    },
    {
      "cell_type": "code",
      "source": [
        "# Count Method\n",
        "list = [\"Pwskills\",\"Avaneesh\", 1, 2, 2]\n",
        "print(list.count(2))"
      ],
      "metadata": {
        "colab": {
          "base_uri": "https://localhost:8080/"
        },
        "id": "v_cFLMWmWqED",
        "outputId": "f8d8c24a-34a9-4ab3-affc-c74801f46143"
      },
      "execution_count": 10,
      "outputs": [
        {
          "output_type": "stream",
          "name": "stdout",
          "text": [
            "2\n"
          ]
        }
      ]
    },
    {
      "cell_type": "code",
      "source": [
        "#  Sort method\n",
        "x = [3,6,7,10]\n",
        "x.sort()\n",
        "print(x)"
      ],
      "metadata": {
        "colab": {
          "base_uri": "https://localhost:8080/"
        },
        "id": "_-L-Tu2vZzXN",
        "outputId": "bfcabb0b-fda9-485e-9386-78df98ea4cbc"
      },
      "execution_count": 13,
      "outputs": [
        {
          "output_type": "stream",
          "name": "stdout",
          "text": [
            "[3, 6, 7, 10]\n"
          ]
        }
      ]
    },
    {
      "cell_type": "code",
      "source": [
        "# Append method\n",
        "\n",
        "x = [7,5,2,1]\n",
        "x.append(\"Pwskills\")\n",
        "print(x)"
      ],
      "metadata": {
        "colab": {
          "base_uri": "https://localhost:8080/"
        },
        "id": "i7tPTSjiaTJN",
        "outputId": "6e8b67f7-a2ed-4ff8-8ac6-af5c32b9184a"
      },
      "execution_count": 14,
      "outputs": [
        {
          "output_type": "stream",
          "name": "stdout",
          "text": [
            "[7, 5, 2, 1, 'Pwskills']\n"
          ]
        }
      ]
    },
    {
      "cell_type": "code",
      "source": [
        "# Remove method\n",
        "x = [7,5,2,1]\n",
        "x.remove(7)\n",
        "print(x)"
      ],
      "metadata": {
        "colab": {
          "base_uri": "https://localhost:8080/"
        },
        "id": "ugol-VpwatZz",
        "outputId": "30bcfcc0-c491-4811-bdbb-62f306d18a1d"
      },
      "execution_count": 15,
      "outputs": [
        {
          "output_type": "stream",
          "name": "stdout",
          "text": [
            "[5, 2, 1]\n"
          ]
        }
      ]
    },
    {
      "cell_type": "markdown",
      "source": [
        "Question 3. Describe how to access, modify,and delete elements in a list with examples.\n",
        "Answer- In the Python, we can access elements in a list using their index, which is an integer value staring from (0).\n"
      ],
      "metadata": {
        "id": "-IJ6lttJbD1B"
      }
    },
    {
      "cell_type": "code",
      "source": [
        "# TO access the list\n",
        "Fruits = [\"Apple\",\"Mango\",\"Banana\"]\n",
        "# To access Apple\n",
        "Fruits[0]"
      ],
      "metadata": {
        "colab": {
          "base_uri": "https://localhost:8080/",
          "height": 35
        },
        "id": "CcLayC2DeGpQ",
        "outputId": "9790f0d2-fa5a-43d6-a557-3cd7fa5c8adb"
      },
      "execution_count": 18,
      "outputs": [
        {
          "output_type": "execute_result",
          "data": {
            "text/plain": [
              "'Apple'"
            ],
            "application/vnd.google.colaboratory.intrinsic+json": {
              "type": "string"
            }
          },
          "metadata": {},
          "execution_count": 18
        }
      ]
    },
    {
      "cell_type": "code",
      "source": [
        "# To modify List\n",
        "Fruits = [\"Apple\",\"Mango\",\"Banana\"]\n",
        "Fruits[1] = 'Cherry'\n",
        "print(Fruits)"
      ],
      "metadata": {
        "colab": {
          "base_uri": "https://localhost:8080/"
        },
        "id": "OANRZ2JGe1Yc",
        "outputId": "5069791b-f01f-43a3-811d-0f748e313cf9"
      },
      "execution_count": 22,
      "outputs": [
        {
          "output_type": "stream",
          "name": "stdout",
          "text": [
            "['Apple', 'Cherry', 'Banana']\n"
          ]
        }
      ]
    },
    {
      "cell_type": "code",
      "source": [
        "# Deleting elemets in list\n",
        "#using del method\n",
        "Fruits = [\"Apple\",\"Mango\",\"Banana\"]\n",
        "del Fruits[1]\n",
        "print(Fruits)"
      ],
      "metadata": {
        "colab": {
          "base_uri": "https://localhost:8080/"
        },
        "id": "c61hZMZxfiQa",
        "outputId": "6c7ce953-e9f5-4d5e-f992-feefc1ff159d"
      },
      "execution_count": 26,
      "outputs": [
        {
          "output_type": "stream",
          "name": "stdout",
          "text": [
            "['Apple', 'Banana']\n"
          ]
        }
      ]
    },
    {
      "cell_type": "code",
      "source": [
        "# Using remove method\n",
        "Fruits = [\"Apple\", \"Mango\", \"Banana\"]\n",
        "Fruits.remove(\"Mango\")\n",
        "print(Fruits)"
      ],
      "metadata": {
        "colab": {
          "base_uri": "https://localhost:8080/"
        },
        "id": "DX77XHaygQj3",
        "outputId": "1c287569-dbfd-434d-d672-b16763c417f8"
      },
      "execution_count": 1,
      "outputs": [
        {
          "output_type": "stream",
          "name": "stdout",
          "text": [
            "['Apple', 'Banana']\n"
          ]
        }
      ]
    },
    {
      "cell_type": "markdown",
      "source": [
        "Question 4. Compare and contrast tuples and lists with example.\n",
        "Answer: Tuples are very similar to lists, but tuples can not be changed i.e. no any change in the contents of the tuple is allowed.A tuples can be  views as a 'constant list'. While lists employ square brackets, tuples are written with standard paraentheses or no paraentheses.\n",
        "Lists are Mutable, and tuples are immutable.\n",
        "Lists consume more memory and tupes consume less memory."
      ],
      "metadata": {
        "id": "dPn5sjzS3Rsg"
      }
    },
    {
      "cell_type": "code",
      "source": [
        "# List\n",
        "List = [1,2,3,4,5,6]\n",
        "print(\"original list\",List)\n",
        "List[3]= 15\n",
        "print(\"example to show mutability\",List)"
      ],
      "metadata": {
        "colab": {
          "base_uri": "https://localhost:8080/"
        },
        "id": "99r9befN8Xeg",
        "outputId": "0a7843ee-9f3b-4ff7-a834-cecbe1e3ba10"
      },
      "execution_count": 3,
      "outputs": [
        {
          "output_type": "stream",
          "name": "stdout",
          "text": [
            "original list [1, 2, 3, 4, 5, 6]\n",
            "example to show mutability [1, 2, 3, 15, 5, 6]\n"
          ]
        }
      ]
    },
    {
      "cell_type": "code",
      "source": [
        "# Tuple\n",
        "Tuple1 = (1,2,3,4,5,6)\n",
        "Tuple1[0]= 4\n",
        "print(Tuple1)"
      ],
      "metadata": {
        "colab": {
          "base_uri": "https://localhost:8080/",
          "height": 193
        },
        "id": "8_gm5Hmg1JL8",
        "outputId": "9dc51ac5-7506-4e97-f480-42eb75075133"
      },
      "execution_count": 4,
      "outputs": [
        {
          "output_type": "error",
          "ename": "TypeError",
          "evalue": "'tuple' object does not support item assignment",
          "traceback": [
            "\u001b[0;31m---------------------------------------------------------------------------\u001b[0m",
            "\u001b[0;31mTypeError\u001b[0m                                 Traceback (most recent call last)",
            "\u001b[0;32m<ipython-input-4-285e9a6c8a4d>\u001b[0m in \u001b[0;36m<cell line: 3>\u001b[0;34m()\u001b[0m\n\u001b[1;32m      1\u001b[0m \u001b[0;31m# Tuple\u001b[0m\u001b[0;34m\u001b[0m\u001b[0;34m\u001b[0m\u001b[0m\n\u001b[1;32m      2\u001b[0m \u001b[0mTuple1\u001b[0m \u001b[0;34m=\u001b[0m \u001b[0;34m(\u001b[0m\u001b[0;36m1\u001b[0m\u001b[0;34m,\u001b[0m\u001b[0;36m2\u001b[0m\u001b[0;34m,\u001b[0m\u001b[0;36m3\u001b[0m\u001b[0;34m,\u001b[0m\u001b[0;36m4\u001b[0m\u001b[0;34m,\u001b[0m\u001b[0;36m5\u001b[0m\u001b[0;34m,\u001b[0m\u001b[0;36m6\u001b[0m\u001b[0;34m)\u001b[0m\u001b[0;34m\u001b[0m\u001b[0;34m\u001b[0m\u001b[0m\n\u001b[0;32m----> 3\u001b[0;31m \u001b[0mTuple1\u001b[0m\u001b[0;34m[\u001b[0m\u001b[0;36m0\u001b[0m\u001b[0;34m]\u001b[0m\u001b[0;34m=\u001b[0m \u001b[0;36m4\u001b[0m\u001b[0;34m\u001b[0m\u001b[0;34m\u001b[0m\u001b[0m\n\u001b[0m\u001b[1;32m      4\u001b[0m \u001b[0mprint\u001b[0m\u001b[0;34m(\u001b[0m\u001b[0mTuple1\u001b[0m\u001b[0;34m)\u001b[0m\u001b[0;34m\u001b[0m\u001b[0;34m\u001b[0m\u001b[0m\n",
            "\u001b[0;31mTypeError\u001b[0m: 'tuple' object does not support item assignment"
          ]
        }
      ]
    },
    {
      "cell_type": "code",
      "source": [
        "# Indexing\n",
        "\n",
        "my_list = [1,2,3,4]\n",
        "my_tuple =(5,6,7)\n",
        "print(my_list[1])\n",
        "print(my_tuple[1])"
      ],
      "metadata": {
        "colab": {
          "base_uri": "https://localhost:8080/"
        },
        "id": "ysY9y5f094kw",
        "outputId": "d7d2927a-9a5d-45de-a3ef-85aaefe6ffe1"
      },
      "execution_count": 6,
      "outputs": [
        {
          "output_type": "stream",
          "name": "stdout",
          "text": [
            "2\n",
            "6\n"
          ]
        }
      ]
    },
    {
      "cell_type": "code",
      "source": [
        "# Slicing\n",
        "my_list = [1,2,3,4]\n",
        "my_tuple =(5,6,7)\n",
        "print(my_list[1:3])\n",
        "print(my_tuple[:3])"
      ],
      "metadata": {
        "colab": {
          "base_uri": "https://localhost:8080/"
        },
        "id": "w8a2i5V6-0eW",
        "outputId": "78a0cc2e-4aba-4844-c0f7-0a2005c363f9"
      },
      "execution_count": 7,
      "outputs": [
        {
          "output_type": "stream",
          "name": "stdout",
          "text": [
            "[2, 3]\n",
            "(5, 6, 7)\n"
          ]
        }
      ]
    },
    {
      "cell_type": "code",
      "source": [
        "# Python Concatenation\n",
        "List1 = [1,2,3]\n",
        "List2 = [4,5,6]\n",
        "Tuple1 = (1,2,3)\n",
        "Tuple2= (4,5,6)\n",
        "print(List1 + List2)\n",
        "print(Tuple1 + Tuple2)"
      ],
      "metadata": {
        "colab": {
          "base_uri": "https://localhost:8080/"
        },
        "id": "BjMPj84bBVMa",
        "outputId": "ec7a6755-1d08-466f-b012-d85c99e5cf5c"
      },
      "execution_count": 8,
      "outputs": [
        {
          "output_type": "stream",
          "name": "stdout",
          "text": [
            "[1, 2, 3, 4, 5, 6]\n",
            "(1, 2, 3, 4, 5, 6)\n"
          ]
        }
      ]
    },
    {
      "cell_type": "markdown",
      "source": [
        "Question 5. Describe the key features of sets and provide examples of their use.\n",
        "Answer. Set have many key features .\n",
        "1.Unorderd\n",
        "2.Immutable\n",
        "3. Unique elements\n",
        "4.Built-in method\n",
        "**Unorderd** :- Sets are unordered collections of unique elements. The order in which elements are added to a set is not preserved.\n",
        "**Immutable**: Set elements are immutable, meaning they cannot be changed once added to the set. This ensures that sets are hashable and can be used as dictionary keys or elements of other sets.\n",
        "**Unique elements**: Sets do not allow duplicate elements. If you try to add a duplicate element, it will be ignored.\n",
        "**Built-in methods**: Sets have several built-in methods, including:\n",
        "len(): returns the number of elements in the set.\n",
        "add(): adds a new element to the set.\n",
        "remove(): removes an element from the set (raises a KeyError if the element is not present).\n",
        "discard(): removes an element from the set if it is present (does not raise an error if the element is not present).\n",
        "union(), intersection(), difference(), symmetric_difference(): perform set operations."
      ],
      "metadata": {
        "id": "x_Cr0xHGB9eS"
      }
    },
    {
      "cell_type": "code",
      "source": [
        "set = {\"Apple\",\"Banana\",\"Cherry\"}\n",
        "print(set)"
      ],
      "metadata": {
        "colab": {
          "base_uri": "https://localhost:8080/"
        },
        "id": "vronTCbyFI9D",
        "outputId": "2b70cd3d-b271-49ed-cba1-7c54b4aa024b"
      },
      "execution_count": 9,
      "outputs": [
        {
          "output_type": "stream",
          "name": "stdout",
          "text": [
            "{'Cherry', 'Banana', 'Apple'}\n"
          ]
        }
      ]
    },
    {
      "cell_type": "code",
      "source": [
        "# Duplicate not allowed\n",
        "set = {\"Apple\",\"Banana\",\"Apple\",\"Cherry\"}\n",
        "print(set)"
      ],
      "metadata": {
        "colab": {
          "base_uri": "https://localhost:8080/"
        },
        "id": "OyVhgOd4Fhy_",
        "outputId": "cae504f6-0155-4116-b0d9-6de82ea6f2d0"
      },
      "execution_count": 10,
      "outputs": [
        {
          "output_type": "stream",
          "name": "stdout",
          "text": [
            "{'Cherry', 'Banana', 'Apple'}\n"
          ]
        }
      ]
    },
    {
      "cell_type": "code",
      "source": [],
      "metadata": {
        "id": "iqIteNDkHA-w"
      },
      "execution_count": null,
      "outputs": []
    },
    {
      "cell_type": "code",
      "source": [
        "# length of set\n",
        "set = {\"Apple\",\"Banana\",\"Cherry\"}\n",
        "print(len(set))"
      ],
      "metadata": {
        "colab": {
          "base_uri": "https://localhost:8080/"
        },
        "id": "yF2Ku5tBGRve",
        "outputId": "c1f758fc-38e7-456b-ef82-02d68a921b3c"
      },
      "execution_count": 13,
      "outputs": [
        {
          "output_type": "stream",
          "name": "stdout",
          "text": [
            "3\n"
          ]
        }
      ]
    },
    {
      "cell_type": "code",
      "source": [
        "# Add items in set\n",
        "set = {\"Apple\",\"Banana\",\"Cherry\"}\n",
        "set.add(\"Orange\")\n",
        "print(set)"
      ],
      "metadata": {
        "colab": {
          "base_uri": "https://localhost:8080/"
        },
        "id": "r4VAqBzQHDZO",
        "outputId": "9ab7ce10-f336-4683-c1ce-34e6c2e718cb"
      },
      "execution_count": 14,
      "outputs": [
        {
          "output_type": "stream",
          "name": "stdout",
          "text": [
            "{'Cherry', 'Banana', 'Apple', 'Orange'}\n"
          ]
        }
      ]
    },
    {
      "cell_type": "code",
      "source": [
        "# Remove items in set\n",
        "set = {\"Apple\",\"Banana\",\"Cherry\"}\n",
        "set.remove(\"Apple\")\n",
        "print(set)"
      ],
      "metadata": {
        "colab": {
          "base_uri": "https://localhost:8080/"
        },
        "id": "MblrMVwYH6m8",
        "outputId": "6eb6cb23-a755-4d75-9974-cabdc2d8b411"
      },
      "execution_count": 15,
      "outputs": [
        {
          "output_type": "stream",
          "name": "stdout",
          "text": [
            "{'Cherry', 'Banana'}\n"
          ]
        }
      ]
    },
    {
      "cell_type": "code",
      "source": [
        "# loop in set\n",
        "set = {\"Apple\",\"Banana\",\"Cherry\"}\n",
        "for x in set:\n",
        "  print(x)"
      ],
      "metadata": {
        "colab": {
          "base_uri": "https://localhost:8080/"
        },
        "id": "LhHw4dNTIbH5",
        "outputId": "9de93010-0a25-4375-d3df-04d81c27e063"
      },
      "execution_count": 17,
      "outputs": [
        {
          "output_type": "stream",
          "name": "stdout",
          "text": [
            "Cherry\n",
            "Banana\n",
            "Apple\n"
          ]
        }
      ]
    },
    {
      "cell_type": "code",
      "source": [
        "# union in set\n",
        "set1 = {\"Apple\",\"Banana\",\"Cherry\"}\n",
        "set2 = {1,2,3}\n",
        "set3 = set1.union(set2)\n",
        "print(set3)"
      ],
      "metadata": {
        "colab": {
          "base_uri": "https://localhost:8080/"
        },
        "id": "t9gJ1OawI6Sa",
        "outputId": "f9335c1e-2b9b-4016-9052-7594d4cf22c9"
      },
      "execution_count": 18,
      "outputs": [
        {
          "output_type": "stream",
          "name": "stdout",
          "text": [
            "{'Cherry', 1, 2, 3, 'Apple', 'Banana'}\n"
          ]
        }
      ]
    },
    {
      "cell_type": "markdown",
      "source": [
        "**Question 6**. Discuss the use cases of tuples and sets in Python programming.\n",
        "**Answer.** Tuples and sets are both data structures in Python. Tuples are ordered collections of elements, which are immutable (meaning they can't be changed once created). Sets, on the other hand, are unordered collections of unique elements.\n",
        "In Python, a tuple could be a data type comparable to a list but immutable, meaning it cannot be changed once made. A tuple is made by enclosing a sequence of values in parentheses, separated by commas.\n",
        "Sets are created by placing elements inside curly braces, separated by commas. For example, three elements could be created: {1, 2, 3}. If there are duplicates in the Set, they are automatically removed. The elements of a set can also be accessed using iteration or various built-in methods.\n",
        "\n"
      ],
      "metadata": {
        "id": "ShlGTqENJxLU"
      }
    },
    {
      "cell_type": "code",
      "source": [
        "# Tuple\n",
        "order = (\"Pwskills\", \"Data Analyist\", 2, 15.0, \"Samosa\", 1, 5.0, 35.0)\n",
        "\n",
        "print(order)\n"
      ],
      "metadata": {
        "colab": {
          "base_uri": "https://localhost:8080/"
        },
        "id": "Q9MuKbEXMTjb",
        "outputId": "edc4d4ad-51f5-4b7c-8a17-697c0c0b67c2"
      },
      "execution_count": 19,
      "outputs": [
        {
          "output_type": "stream",
          "name": "stdout",
          "text": [
            "('Pwskills', 'Data Analyist', 2, 15.0, 'Samosa', 1, 5.0, 35.0)\n"
          ]
        }
      ]
    },
    {
      "cell_type": "code",
      "source": [
        "# Set\n",
        "order = {\"Pwskills\", \"Data Analyist\", 2, 15.0, \"Samosa\", 1, 5.0, 35.0}\n",
        "print(order)"
      ],
      "metadata": {
        "colab": {
          "base_uri": "https://localhost:8080/"
        },
        "id": "XBqtLIMXM0Nl",
        "outputId": "43735ced-31fc-47f0-8bf4-3fede868400c"
      },
      "execution_count": 20,
      "outputs": [
        {
          "output_type": "stream",
          "name": "stdout",
          "text": [
            "{1, 2, 35.0, 5.0, 'Pwskills', 'Data Analyist', 15.0, 'Samosa'}\n"
          ]
        }
      ]
    },
    {
      "cell_type": "code",
      "source": [
        "# Access  elements in Tuples\n",
        "my_tuple = (1, 2, 3, 4, 5)\n",
        "\n",
        "# Accessing the first element of the tuple\n",
        "print(my_tuple[0])\n",
        "\n",
        "# Accessing the third element of the tuple\n",
        "print(my_tuple[2])\n"
      ],
      "metadata": {
        "colab": {
          "base_uri": "https://localhost:8080/"
        },
        "id": "MeA9b0ZZNeFy",
        "outputId": "051a8c35-373b-411d-d5c4-633c217bc2d6"
      },
      "execution_count": 21,
      "outputs": [
        {
          "output_type": "stream",
          "name": "stdout",
          "text": [
            "1\n",
            "3\n"
          ]
        }
      ]
    },
    {
      "cell_type": "code",
      "source": [
        "my_set = {1, 2, 3}\n",
        "\n",
        "my_set.add(4) # Add element 4 to the set\n",
        "my_set.remove(3) # Remove element 3 from the set\n",
        "my_set.discard(2) # Remove element 2 from the set (if it exists)\n",
        "\n",
        "print(my_set)\n"
      ],
      "metadata": {
        "colab": {
          "base_uri": "https://localhost:8080/"
        },
        "id": "A8iakb1QOX0b",
        "outputId": "38653262-ab0d-4dfd-ec30-e9c0d950cb5c"
      },
      "execution_count": 23,
      "outputs": [
        {
          "output_type": "stream",
          "name": "stdout",
          "text": [
            "{1, 4}\n"
          ]
        }
      ]
    },
    {
      "cell_type": "code",
      "source": [
        "# union\n",
        "set1 = {1, 2, 3}\n",
        "set2 = {3, 4, 5}\n",
        "\n",
        "union = set1 | set2\n",
        "intersection = set1 & set2\n",
        "difference = set1 - set2\n",
        "\n",
        "print(union)\n",
        "print(intersection)\n",
        "print(difference)\n"
      ],
      "metadata": {
        "colab": {
          "base_uri": "https://localhost:8080/"
        },
        "id": "yvjVOl3KOgyH",
        "outputId": "1e3a87a3-a219-43c2-f10e-6f6149e83feb"
      },
      "execution_count": 24,
      "outputs": [
        {
          "output_type": "stream",
          "name": "stdout",
          "text": [
            "{1, 2, 3, 4, 5}\n",
            "{3}\n",
            "{1, 2}\n"
          ]
        }
      ]
    },
    {
      "cell_type": "markdown",
      "source": [
        "Question 7. Describe how to add, modify, and delete items in a dictionary with examples.\n",
        "Answer:- A dictionary is a collection which is ordered*, changeable and do not allow duplicates.\n",
        "\n"
      ],
      "metadata": {
        "id": "jfW-TiitO7sU"
      }
    },
    {
      "cell_type": "code",
      "source": [
        "My_Dict = {\"brand\": \"Ford\",\"model\": \"Mustang\",\"year\": 1964}\n",
        "print(My_Dict)\n",
        "print(My_Dict[\"brand\"])"
      ],
      "metadata": {
        "colab": {
          "base_uri": "https://localhost:8080/"
        },
        "id": "cqFnYCrAPtQ_",
        "outputId": "e53cd73f-40cf-430f-b92b-dff8ac84f7b8"
      },
      "execution_count": 26,
      "outputs": [
        {
          "output_type": "stream",
          "name": "stdout",
          "text": [
            "{'brand': 'Ford', 'model': 'Mustang', 'year': 1964}\n",
            "Ford\n"
          ]
        }
      ]
    },
    {
      "cell_type": "code",
      "source": [
        "# Duplicate are not allowed\n",
        "My_Dict = {\"brand\": \"Ford\",\"model\": \"Mustang\",\"year\": 1964,\"year\": 2024}\n",
        "print(My_Dict)"
      ],
      "metadata": {
        "colab": {
          "base_uri": "https://localhost:8080/"
        },
        "id": "gc-1DkqHQMY4",
        "outputId": "d5feb1f5-3585-49d9-98bb-448a15a718a3"
      },
      "execution_count": 27,
      "outputs": [
        {
          "output_type": "stream",
          "name": "stdout",
          "text": [
            "{'brand': 'Ford', 'model': 'Mustang', 'year': 2024}\n"
          ]
        }
      ]
    },
    {
      "cell_type": "code",
      "source": [
        "# Length of dict\n",
        "My_Dict = {\"brand\": \"Ford\",\"model\": \"Mustang\",\"year\": 1964,\"year\": 2024}\n",
        "print(len(My_Dict))"
      ],
      "metadata": {
        "colab": {
          "base_uri": "https://localhost:8080/"
        },
        "id": "cNkt8H__Q21L",
        "outputId": "97c5ae50-9c51-4e39-8572-b4838b9e3136"
      },
      "execution_count": 28,
      "outputs": [
        {
          "output_type": "stream",
          "name": "stdout",
          "text": [
            "3\n"
          ]
        }
      ]
    },
    {
      "cell_type": "code",
      "source": [
        "# Addition\n",
        "My_Dict = {\"brand\": \"Ford\",\"model\": \"Mustang\",\"year\": 1964}\n",
        "My_Dict[\"color\"] = \"Orange\"\n",
        "print(My_Dict)"
      ],
      "metadata": {
        "colab": {
          "base_uri": "https://localhost:8080/"
        },
        "id": "6yr4UqYYRogh",
        "outputId": "39a301a6-a9fb-454f-a8eb-fb71e64fef56"
      },
      "execution_count": 29,
      "outputs": [
        {
          "output_type": "stream",
          "name": "stdout",
          "text": [
            "{'brand': 'Ford', 'model': 'Mustang', 'year': 1964, 'color': 'Orange'}\n"
          ]
        }
      ]
    },
    {
      "cell_type": "code",
      "source": [
        "# Delete\n",
        "My_Dict = {\"brand\": \"Tata\",\"model\": \"Punch\",\"year\": 2015}\n",
        "del My_Dict[\"model\"]\n",
        "print(My_Dict)"
      ],
      "metadata": {
        "colab": {
          "base_uri": "https://localhost:8080/"
        },
        "id": "qHNuCDmqSU1f",
        "outputId": "7501fe45-acef-46b3-ad42-90e2a3cbf3f5"
      },
      "execution_count": 30,
      "outputs": [
        {
          "output_type": "stream",
          "name": "stdout",
          "text": [
            "{'brand': 'Tata', 'year': 2015}\n"
          ]
        }
      ]
    },
    {
      "cell_type": "code",
      "source": [
        "# Clear\n",
        "My_Dict = {\"brand\": \"Tata\",\"model\": \"Punch\",\"year\": 2015}\n",
        "My_Dict.clear()\n",
        "print(My_Dict)"
      ],
      "metadata": {
        "colab": {
          "base_uri": "https://localhost:8080/"
        },
        "id": "hy1YOAPDTGfm",
        "outputId": "ab44dd4d-9b36-4980-90c9-70f9a4e33efc"
      },
      "execution_count": 31,
      "outputs": [
        {
          "output_type": "stream",
          "name": "stdout",
          "text": [
            "{}\n"
          ]
        }
      ]
    },
    {
      "cell_type": "code",
      "source": [
        "# Copy\n",
        "My_Dict = {\"brand\": \"Tata\",\"model\": \"Punch\",\"year\": 2015}\n",
        "My_Dict.copy()\n",
        "print(My_Dict)"
      ],
      "metadata": {
        "colab": {
          "base_uri": "https://localhost:8080/"
        },
        "id": "ycrrkRSdT2L2",
        "outputId": "f0549cfa-b2d0-4378-880b-eb6de180d3e3"
      },
      "execution_count": 32,
      "outputs": [
        {
          "output_type": "stream",
          "name": "stdout",
          "text": [
            "{'brand': 'Tata', 'model': 'Punch', 'year': 2015}\n"
          ]
        }
      ]
    },
    {
      "cell_type": "markdown",
      "source": [
        "Question 8. Discuss the importance of dictionary keys being immutable and provide examples.\n",
        "Answer:-"
      ],
      "metadata": {
        "id": "LFiV-1kXUaDJ"
      }
    },
    {
      "cell_type": "code",
      "source": [
        "# keys()\n",
        "# Dictionary with three keys\n",
        "Dictionary1 = {'A': 'Made', 'B': 'in', 'C': 'India'}\n",
        "\n",
        "# Printing keys of dictionary\n",
        "print(Dictionary1.keys())\n"
      ],
      "metadata": {
        "colab": {
          "base_uri": "https://localhost:8080/"
        },
        "id": "xUkMqRBxXbd4",
        "outputId": "a8279067-327f-429d-f524-607d0226ffdb"
      },
      "execution_count": 33,
      "outputs": [
        {
          "output_type": "stream",
          "name": "stdout",
          "text": [
            "dict_keys(['A', 'B', 'C'])\n"
          ]
        }
      ]
    },
    {
      "cell_type": "code",
      "source": [
        "# initializing dictionary\n",
        "test_dict = {\"Made\": 7, \"in\": 1, \"India\": 2}\n",
        "\n",
        "# accessing 2nd element using naive method\n",
        "# using loop\n",
        "j = 0\n",
        "for i in test_dict:\n",
        "    if (j == 1):\n",
        "        print('2nd key using loop : ' + i)\n",
        "    j = j + 1\n"
      ],
      "metadata": {
        "colab": {
          "base_uri": "https://localhost:8080/"
        },
        "id": "PyOByBBDX3G4",
        "outputId": "ef1e8ecc-b6cd-4554-83b8-f7b990f41363"
      },
      "execution_count": 34,
      "outputs": [
        {
          "output_type": "stream",
          "name": "stdout",
          "text": [
            "2nd key using loop : in\n"
          ]
        }
      ]
    },
    {
      "cell_type": "code",
      "source": [
        "# Update\n",
        "Dictionary1 = {'A': 'Made', 'B': 'in'}\n",
        "Dictionary1.update({'c': 'India'})\n",
        "print(Dictionary1.keys())"
      ],
      "metadata": {
        "colab": {
          "base_uri": "https://localhost:8080/"
        },
        "id": "cLkywMrmYKWJ",
        "outputId": "c3f6d66c-fca9-45aa-ffc5-76f3e0a89030"
      },
      "execution_count": 35,
      "outputs": [
        {
          "output_type": "stream",
          "name": "stdout",
          "text": [
            "dict_keys(['A', 'B', 'c'])\n"
          ]
        }
      ]
    },
    {
      "cell_type": "code",
      "source": [
        "Dict = {1,2,3,4}\n",
        "Dict[0] = 5\n",
        "print(Dict)"
      ],
      "metadata": {
        "colab": {
          "base_uri": "https://localhost:8080/",
          "height": 176
        },
        "id": "-SiRjtTPY-6s",
        "outputId": "2929f8b1-6af6-4158-dfab-6af16b3ae4ef"
      },
      "execution_count": 36,
      "outputs": [
        {
          "output_type": "error",
          "ename": "TypeError",
          "evalue": "'set' object does not support item assignment",
          "traceback": [
            "\u001b[0;31m---------------------------------------------------------------------------\u001b[0m",
            "\u001b[0;31mTypeError\u001b[0m                                 Traceback (most recent call last)",
            "\u001b[0;32m<ipython-input-36-bbf6a047036b>\u001b[0m in \u001b[0;36m<cell line: 2>\u001b[0;34m()\u001b[0m\n\u001b[1;32m      1\u001b[0m \u001b[0mDict\u001b[0m \u001b[0;34m=\u001b[0m \u001b[0;34m{\u001b[0m\u001b[0;36m1\u001b[0m\u001b[0;34m,\u001b[0m\u001b[0;36m2\u001b[0m\u001b[0;34m,\u001b[0m\u001b[0;36m3\u001b[0m\u001b[0;34m,\u001b[0m\u001b[0;36m4\u001b[0m\u001b[0;34m}\u001b[0m\u001b[0;34m\u001b[0m\u001b[0;34m\u001b[0m\u001b[0m\n\u001b[0;32m----> 2\u001b[0;31m \u001b[0mDict\u001b[0m\u001b[0;34m[\u001b[0m\u001b[0;36m0\u001b[0m\u001b[0;34m]\u001b[0m \u001b[0;34m=\u001b[0m \u001b[0;36m5\u001b[0m\u001b[0;34m\u001b[0m\u001b[0;34m\u001b[0m\u001b[0m\n\u001b[0m\u001b[1;32m      3\u001b[0m \u001b[0mprint\u001b[0m\u001b[0;34m(\u001b[0m\u001b[0mDict\u001b[0m\u001b[0;34m)\u001b[0m\u001b[0;34m\u001b[0m\u001b[0;34m\u001b[0m\u001b[0m\n",
            "\u001b[0;31mTypeError\u001b[0m: 'set' object does not support item assignment"
          ]
        }
      ]
    }
  ]
}